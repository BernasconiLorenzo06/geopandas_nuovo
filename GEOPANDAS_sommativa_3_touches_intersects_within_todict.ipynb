{
  "nbformat": 4,
  "nbformat_minor": 0,
  "metadata": {
    "colab": {
      "provenance": [],
      "authorship_tag": "ABX9TyNbvnbbEncMvCQTA1fIE/S+",
      "include_colab_link": true
    },
    "kernelspec": {
      "name": "python3",
      "display_name": "Python 3"
    },
    "language_info": {
      "name": "python"
    }
  },
  "cells": [
    {
      "cell_type": "markdown",
      "metadata": {
        "id": "view-in-github",
        "colab_type": "text"
      },
      "source": [
        "<a href=\"https://colab.research.google.com/github/BernasconiLorenzo06/geopandas_nuovo/blob/main/GEOPANDAS_sommativa_3_touches_intersects_within_todict.ipynb\" target=\"_parent\"><img src=\"https://colab.research.google.com/assets/colab-badge.svg\" alt=\"Open In Colab\"/></a>"
      ]
    },
    {
      "cell_type": "code",
      "execution_count": null,
      "metadata": {
        "id": "eMod2bJO1zYv"
      },
      "outputs": [],
      "source": [
        "from google.colab import drive\n",
        "drive.mount('/content/drive')"
      ]
    },
    {
      "cell_type": "code",
      "source": [
        "!pip install geopandas\n",
        "import pandas as pd\n",
        "import geopandas\n",
        "import matplotlib.pyplot as plt"
      ],
      "metadata": {
        "id": "OjgQ6kmw19g_"
      },
      "execution_count": null,
      "outputs": []
    },
    {
      "cell_type": "code",
      "source": [
        "!pip install contextily\n",
        "import contextily"
      ],
      "metadata": {
        "id": "JFJo0sp52DpW"
      },
      "execution_count": null,
      "outputs": []
    },
    {
      "cell_type": "code",
      "source": [
        "provincie = geopandas.read_file(\"/content/drive/MyDrive/Colab Notebooks/ProvCM01012022_g\")\n",
        "provincie\n",
        "provincie3857 = provincie.to_crs(epsg=3857)\n",
        "provincie3857"
      ],
      "metadata": {
        "id": "BitXoj1d2IGf"
      },
      "execution_count": null,
      "outputs": []
    },
    {
      "cell_type": "code",
      "source": [
        "comuni = geopandas.read_file(\"/content/drive/MyDrive/Colab Notebooks/Com01012022_g\")\n",
        "comuni\n",
        "comuni3857 = comuni.to_crs(epsg=3857)\n",
        "comuni3857"
      ],
      "metadata": {
        "id": "K8iICMXU2ow9"
      },
      "execution_count": null,
      "outputs": []
    },
    {
      "cell_type": "markdown",
      "source": [
        "1. dato il nome di una provincia inserito dall'utente, visualizzarne i confini su una mappa di contextily\n"
      ],
      "metadata": {
        "id": "W_L0IZJu3BEk"
      }
    },
    {
      "cell_type": "code",
      "source": [
        "provinciaInput = input(\"inserire un provincia  \");\n",
        "prov = provincie3857[provincie3857[\"DEN_UTS\"]== provinciaInput]\n",
        "ax = prov.plot(edgecolor =  \"red\", facecolor = \"None\",figsize=(12,6),markersize = 5)\n",
        "contextily.add_basemap(ax)"
      ],
      "metadata": {
        "id": "ciyC6soK3C6k"
      },
      "execution_count": null,
      "outputs": []
    },
    {
      "cell_type": "markdown",
      "source": [
        "2. creare un nuovo geodataset contenente i comuni di quella provincia\n"
      ],
      "metadata": {
        "id": "O-6JexY-3DQL"
      }
    },
    {
      "cell_type": "code",
      "source": [
        "provinciaInput = input(\"inserire un provincia  \");\n",
        "prov = provincie3857[provincie3857[\"DEN_UTS\"]== provinciaInput]\n",
        "comuni_provinciaselezionata = comuni3857[comuni3857.within(prov.geometry.item())]\n",
        "comuni_provinciaselezionata.plot()"
      ],
      "metadata": {
        "id": "hTVsEszT3Di7"
      },
      "execution_count": null,
      "outputs": []
    },
    {
      "cell_type": "markdown",
      "source": [
        "3. visualizzare l'elenco dei comuni presenti in quella provincia. L'elenco deve essere in ordine alfabetico"
      ],
      "metadata": {
        "id": "RLmJqqhX3Dxr"
      }
    },
    {
      "cell_type": "code",
      "source": [
        "comuni_provinciaselezionata.sort_values(by = \"COMUNE\")[[\"COMUNE\",\"Shape_Area\"]]"
      ],
      "metadata": {
        "id": "i2q2Aw7D5fEx"
      },
      "execution_count": null,
      "outputs": []
    },
    {
      "cell_type": "markdown",
      "source": [
        "3. costruire un dizionario contenente i nomi dei comuni della provincia inserita e la loro estensione"
      ],
      "metadata": {
        "id": "wIDCRLEg3E4s"
      }
    },
    {
      "cell_type": "code",
      "source": [
        "dizionario = dict(zip(comuni_provinciaselezionata[\"COMUNE\"], comuni_provinciaselezionata[\"Shape_Area\"]))\n",
        "dizionario"
      ],
      "metadata": {
        "id": "CIRizDVV3FJb"
      },
      "execution_count": null,
      "outputs": []
    },
    {
      "cell_type": "markdown",
      "source": [
        "4. progettare una funzione che trasformi una superficie da kmq in miglia quadrate\n"
      ],
      "metadata": {
        "id": "dMAmCiox3FWc"
      }
    },
    {
      "cell_type": "code",
      "source": [
        "def conversione(kmq):\n",
        "  miglia = kmq * 0.386102\n",
        "  return miglia\n",
        "var = float(input(\"inserisci un numero\"))\n",
        "conversione(var)\n"
      ],
      "metadata": {
        "id": "a9CvR48K3Fkb",
        "colab": {
          "base_uri": "https://localhost:8080/"
        },
        "outputId": "49f27588-7a08-47d1-870b-160179f012d8"
      },
      "execution_count": null,
      "outputs": [
        {
          "name": "stdout",
          "output_type": "stream",
          "text": [
            "inserisci un numero10\n"
          ]
        },
        {
          "output_type": "execute_result",
          "data": {
            "text/plain": [
              "3.8610038610038613"
            ]
          },
          "metadata": {},
          "execution_count": 2
        }
      ]
    },
    {
      "cell_type": "markdown",
      "source": [
        "5. applicare la funzione appena creata al geodataset dei comuni della provincia, aggiungendo una colonna denominata superficeInMigliaQuadrate\n"
      ],
      "metadata": {
        "id": "BJrsc_pZ3F2j"
      }
    },
    {
      "cell_type": "code",
      "source": [
        "comuni_provinciaselezionata[\"superficeInMigliaQuadrate\"] = conversione(comuni_provinciaselezionata[\"Shape_Area\"]/1000000)#perche òa shape area è in kmq e la vogliamo in metri quadrati\n",
        "comuni_provinciaselezionata"
      ],
      "metadata": {
        "id": "sc_JnS_D8ebM"
      },
      "execution_count": null,
      "outputs": []
    },
    {
      "cell_type": "markdown",
      "source": [
        "6. creare una altro geodataset contenente i comuni che confinano con la provincia inserita dall'utente\n",
        "\n"
      ],
      "metadata": {
        "id": "4UAI00BU9Yo8"
      }
    },
    {
      "cell_type": "code",
      "source": [
        "provinciaInput = input(\"inserire un provincia  \");\n",
        "prov = provincie3857[provincie3857[\"DEN_UTS\"]== provinciaInput]\n",
        "comuni_provinciaselezionata_confinanti = comuni3857[comuni3857.touches(prov.geometry.item())]\n",
        "comuni_provinciaselezionata_confinanti.plot()"
      ],
      "metadata": {
        "id": "ycKGoOwH9ZAz"
      },
      "execution_count": null,
      "outputs": []
    },
    {
      "cell_type": "markdown",
      "source": [
        "7. calcolare l'estensione complessiva  in miglia quadrate dei comuni che confinano con la provincia inserita dall'utente\n"
      ],
      "metadata": {
        "id": "PXmzWylb9ZUc"
      }
    },
    {
      "cell_type": "code",
      "source": [
        "conversione(comuni_provinciaselezionata_confinanti['Shape_Area'].sum())"
      ],
      "metadata": {
        "id": "3x6FvEzs9Zk7"
      },
      "execution_count": null,
      "outputs": []
    },
    {
      "cell_type": "markdown",
      "source": [
        "8. visualizzare il comune confinante più esteso\n"
      ],
      "metadata": {
        "id": "Y2Kf0j679Zyb"
      }
    },
    {
      "cell_type": "code",
      "source": [
        "comune_max_steso = comuni_provinciaselezionata_confinanti[(comuni_provinciaselezionata_confinanti['Shape_Area']) == (comuni_provinciaselezionata_confinanti['Shape_Area'].max())]\n",
        "comune_max_steso"
      ],
      "metadata": {
        "id": "9hNRldwu9aH7"
      },
      "execution_count": null,
      "outputs": []
    },
    {
      "cell_type": "markdown",
      "source": [
        "9. calcolare la distanza tra il capoluogo della provincia inserita dall'utente e Milano\n"
      ],
      "metadata": {
        "id": "JNCn2lms9qaj"
      }
    },
    {
      "cell_type": "code",
      "source": [],
      "metadata": {
        "id": "oZl4E7ON9q9U"
      },
      "execution_count": null,
      "outputs": []
    }
  ]
}