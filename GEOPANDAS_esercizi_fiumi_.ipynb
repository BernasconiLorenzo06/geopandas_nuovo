{
  "nbformat": 4,
  "nbformat_minor": 0,
  "metadata": {
    "colab": {
      "provenance": [],
      "authorship_tag": "ABX9TyNvKGftmYo6GSxVmT0uv675",
      "include_colab_link": true
    },
    "kernelspec": {
      "name": "python3",
      "display_name": "Python 3"
    },
    "language_info": {
      "name": "python"
    }
  },
  "cells": [
    {
      "cell_type": "markdown",
      "metadata": {
        "id": "view-in-github",
        "colab_type": "text"
      },
      "source": [
        "<a href=\"https://colab.research.google.com/github/BernasconiLorenzo06/geopandas_nuovo/blob/main/GEOPANDAS_esercizi_fiumi_.ipynb\" target=\"_parent\"><img src=\"https://colab.research.google.com/assets/colab-badge.svg\" alt=\"Open In Colab\"/></a>"
      ]
    },
    {
      "cell_type": "code",
      "source": [
        "from google.colab import drive\n",
        "drive.mount('/content/drive')"
      ],
      "metadata": {
        "colab": {
          "base_uri": "https://localhost:8080/"
        },
        "id": "LKi86qoxqAcs",
        "outputId": "f20e7695-dfc9-4d40-8c8e-89dacc0f6563"
      },
      "execution_count": null,
      "outputs": [
        {
          "output_type": "stream",
          "name": "stdout",
          "text": [
            "Mounted at /content/drive\n"
          ]
        }
      ]
    },
    {
      "cell_type": "markdown",
      "source": [
        "**interescts** = quando un oggetto interseca un altro\n",
        "\n",
        "**contains** = quando un oggetto contiene un altro\n",
        "\n",
        "**touches** = quando un oggetto tocca un altro\n",
        "\n",
        "\n",
        "**within** = quando un oggetto è dentro un altro\n",
        "\n",
        "**crosses** = quando un oggetto passa attraverso un altro un altro"
      ],
      "metadata": {
        "id": "CKEo-M-_4R7t"
      }
    },
    {
      "cell_type": "code",
      "execution_count": null,
      "metadata": {
        "id": "OGn7dAVOpFHC"
      },
      "outputs": [],
      "source": [
        "!pip install geopandas\n",
        "import pandas as pd\n",
        "import geopandas\n",
        "import matplotlib.pyplot as plt\n",
        "!pip install contextily\n",
        "import contextily"
      ]
    },
    {
      "cell_type": "code",
      "source": [
        "corsi_acqua = geopandas.read_file(\"/content/drive/MyDrive/Colab Notebooks/Corsi_acqua_Piano_di_Gestione.zip\")\n",
        "corsi_acqua3857 = corsi_acqua.to_crs(epsg=3857)\n",
        "corsi_acqua3857"
      ],
      "metadata": {
        "id": "Tq0tL8jZp2l5"
      },
      "execution_count": null,
      "outputs": []
    },
    {
      "cell_type": "code",
      "source": [
        "provincie = geopandas.read_file(\"/content/drive/MyDrive/Colab Notebooks/ProvCM01012022_g\")\n",
        "provincie\n",
        "provincie3857 = provincie.to_crs(epsg=3857)\n",
        "provincie3857"
      ],
      "metadata": {
        "id": "c2BAeQRf1Pni"
      },
      "execution_count": null,
      "outputs": []
    },
    {
      "cell_type": "code",
      "source": [
        "comuni = geopandas.read_file(\"/content/drive/MyDrive/Colab Notebooks/Com01012022_g\")\n",
        "comuni3857 = comuni.to_crs(epsg=3857)\n",
        "comuni3857"
      ],
      "metadata": {
        "colab": {
          "base_uri": "https://localhost:8080/",
          "height": 423
        },
        "id": "j5l08_Ksu3tp",
        "outputId": "80f1e1fa-32c5-4c1e-ba6d-e3f0ce707cc6"
      },
      "execution_count": null,
      "outputs": [
        {
          "output_type": "execute_result",
          "data": {
            "text/plain": [
              "      COD_RIP  COD_REG  COD_PROV  COD_CM  COD_UTS  PRO_COM PRO_COM_T  \\\n",
              "0           1        1         1     201      201     1001    001001   \n",
              "1           1        1         1     201      201     1002    001002   \n",
              "2           1        1         1     201      201     1003    001003   \n",
              "3           1        1         1     201      201     1004    001004   \n",
              "4           1        1         1     201      201     1006    001006   \n",
              "...       ...      ...       ...     ...      ...      ...       ...   \n",
              "7899        5       20       111       0      111   111103    111103   \n",
              "7900        5       20       111       0      111   111104    111104   \n",
              "7901        5       20       111       0      111   111105    111105   \n",
              "7902        5       20       111       0      111   111106    111106   \n",
              "7903        5       20       111       0      111   111107    111107   \n",
              "\n",
              "               COMUNE COMUNE_A  CC_UTS     Shape_Leng    Shape_Area  \\\n",
              "0              AgliÃ¨      NaN       0   16097.848297  1.330696e+07   \n",
              "1             Airasca      NaN       0   16684.218599  1.595353e+07   \n",
              "2        Ala di Stura      NaN       0   29892.941951  4.575269e+07   \n",
              "3     Albiano d'Ivrea      NaN       0   16192.656480  1.103356e+07   \n",
              "4              Almese      NaN       0   16077.245089  1.771710e+07   \n",
              "...               ...      ...     ...            ...           ...   \n",
              "7899       Villaputzu      NaN       0  100515.537851  1.807260e+08   \n",
              "7900       Villasalto      NaN       0   58635.095264  1.303933e+08   \n",
              "7901      Villasimius      NaN       0   49918.361745  5.756161e+07   \n",
              "7902         Villasor      NaN       0   53375.684321  8.640693e+07   \n",
              "7903    Villaspeciosa      NaN       0   32524.472837  2.725303e+07   \n",
              "\n",
              "                                               geometry  \n",
              "0     POLYGON ((866361.917 5682681.371, 867296.833 5...  \n",
              "1     POLYGON ((833554.290 5611950.793, 834124.905 5...  \n",
              "2     POLYGON ((809653.627 5675092.088, 809693.146 5...  \n",
              "3     POLYGON ((882215.093 5692360.950, 882409.855 5...  \n",
              "4     POLYGON ((827649.251 5642707.276, 827687.129 5...  \n",
              "...                                                 ...  \n",
              "7899  MULTIPOLYGON (((1075185.817 4797046.310, 10751...  \n",
              "7900  POLYGON ((1055218.999 4797098.868, 1055211.008...  \n",
              "7901  MULTIPOLYGON (((1061659.437 4733278.201, 10616...  \n",
              "7902  POLYGON ((1002344.056 4779213.244, 1002389.298...  \n",
              "7903  POLYGON ((994295.952 4768803.807, 995220.994 4...  \n",
              "\n",
              "[7904 rows x 13 columns]"
            ],
            "text/html": [
              "\n",
              "  <div id=\"df-1e4547c1-2d0e-4fe4-a9ee-09e050ce0afb\">\n",
              "    <div class=\"colab-df-container\">\n",
              "      <div>\n",
              "<style scoped>\n",
              "    .dataframe tbody tr th:only-of-type {\n",
              "        vertical-align: middle;\n",
              "    }\n",
              "\n",
              "    .dataframe tbody tr th {\n",
              "        vertical-align: top;\n",
              "    }\n",
              "\n",
              "    .dataframe thead th {\n",
              "        text-align: right;\n",
              "    }\n",
              "</style>\n",
              "<table border=\"1\" class=\"dataframe\">\n",
              "  <thead>\n",
              "    <tr style=\"text-align: right;\">\n",
              "      <th></th>\n",
              "      <th>COD_RIP</th>\n",
              "      <th>COD_REG</th>\n",
              "      <th>COD_PROV</th>\n",
              "      <th>COD_CM</th>\n",
              "      <th>COD_UTS</th>\n",
              "      <th>PRO_COM</th>\n",
              "      <th>PRO_COM_T</th>\n",
              "      <th>COMUNE</th>\n",
              "      <th>COMUNE_A</th>\n",
              "      <th>CC_UTS</th>\n",
              "      <th>Shape_Leng</th>\n",
              "      <th>Shape_Area</th>\n",
              "      <th>geometry</th>\n",
              "    </tr>\n",
              "  </thead>\n",
              "  <tbody>\n",
              "    <tr>\n",
              "      <th>0</th>\n",
              "      <td>1</td>\n",
              "      <td>1</td>\n",
              "      <td>1</td>\n",
              "      <td>201</td>\n",
              "      <td>201</td>\n",
              "      <td>1001</td>\n",
              "      <td>001001</td>\n",
              "      <td>AgliÃ¨</td>\n",
              "      <td>NaN</td>\n",
              "      <td>0</td>\n",
              "      <td>16097.848297</td>\n",
              "      <td>1.330696e+07</td>\n",
              "      <td>POLYGON ((866361.917 5682681.371, 867296.833 5...</td>\n",
              "    </tr>\n",
              "    <tr>\n",
              "      <th>1</th>\n",
              "      <td>1</td>\n",
              "      <td>1</td>\n",
              "      <td>1</td>\n",
              "      <td>201</td>\n",
              "      <td>201</td>\n",
              "      <td>1002</td>\n",
              "      <td>001002</td>\n",
              "      <td>Airasca</td>\n",
              "      <td>NaN</td>\n",
              "      <td>0</td>\n",
              "      <td>16684.218599</td>\n",
              "      <td>1.595353e+07</td>\n",
              "      <td>POLYGON ((833554.290 5611950.793, 834124.905 5...</td>\n",
              "    </tr>\n",
              "    <tr>\n",
              "      <th>2</th>\n",
              "      <td>1</td>\n",
              "      <td>1</td>\n",
              "      <td>1</td>\n",
              "      <td>201</td>\n",
              "      <td>201</td>\n",
              "      <td>1003</td>\n",
              "      <td>001003</td>\n",
              "      <td>Ala di Stura</td>\n",
              "      <td>NaN</td>\n",
              "      <td>0</td>\n",
              "      <td>29892.941951</td>\n",
              "      <td>4.575269e+07</td>\n",
              "      <td>POLYGON ((809653.627 5675092.088, 809693.146 5...</td>\n",
              "    </tr>\n",
              "    <tr>\n",
              "      <th>3</th>\n",
              "      <td>1</td>\n",
              "      <td>1</td>\n",
              "      <td>1</td>\n",
              "      <td>201</td>\n",
              "      <td>201</td>\n",
              "      <td>1004</td>\n",
              "      <td>001004</td>\n",
              "      <td>Albiano d'Ivrea</td>\n",
              "      <td>NaN</td>\n",
              "      <td>0</td>\n",
              "      <td>16192.656480</td>\n",
              "      <td>1.103356e+07</td>\n",
              "      <td>POLYGON ((882215.093 5692360.950, 882409.855 5...</td>\n",
              "    </tr>\n",
              "    <tr>\n",
              "      <th>4</th>\n",
              "      <td>1</td>\n",
              "      <td>1</td>\n",
              "      <td>1</td>\n",
              "      <td>201</td>\n",
              "      <td>201</td>\n",
              "      <td>1006</td>\n",
              "      <td>001006</td>\n",
              "      <td>Almese</td>\n",
              "      <td>NaN</td>\n",
              "      <td>0</td>\n",
              "      <td>16077.245089</td>\n",
              "      <td>1.771710e+07</td>\n",
              "      <td>POLYGON ((827649.251 5642707.276, 827687.129 5...</td>\n",
              "    </tr>\n",
              "    <tr>\n",
              "      <th>...</th>\n",
              "      <td>...</td>\n",
              "      <td>...</td>\n",
              "      <td>...</td>\n",
              "      <td>...</td>\n",
              "      <td>...</td>\n",
              "      <td>...</td>\n",
              "      <td>...</td>\n",
              "      <td>...</td>\n",
              "      <td>...</td>\n",
              "      <td>...</td>\n",
              "      <td>...</td>\n",
              "      <td>...</td>\n",
              "      <td>...</td>\n",
              "    </tr>\n",
              "    <tr>\n",
              "      <th>7899</th>\n",
              "      <td>5</td>\n",
              "      <td>20</td>\n",
              "      <td>111</td>\n",
              "      <td>0</td>\n",
              "      <td>111</td>\n",
              "      <td>111103</td>\n",
              "      <td>111103</td>\n",
              "      <td>Villaputzu</td>\n",
              "      <td>NaN</td>\n",
              "      <td>0</td>\n",
              "      <td>100515.537851</td>\n",
              "      <td>1.807260e+08</td>\n",
              "      <td>MULTIPOLYGON (((1075185.817 4797046.310, 10751...</td>\n",
              "    </tr>\n",
              "    <tr>\n",
              "      <th>7900</th>\n",
              "      <td>5</td>\n",
              "      <td>20</td>\n",
              "      <td>111</td>\n",
              "      <td>0</td>\n",
              "      <td>111</td>\n",
              "      <td>111104</td>\n",
              "      <td>111104</td>\n",
              "      <td>Villasalto</td>\n",
              "      <td>NaN</td>\n",
              "      <td>0</td>\n",
              "      <td>58635.095264</td>\n",
              "      <td>1.303933e+08</td>\n",
              "      <td>POLYGON ((1055218.999 4797098.868, 1055211.008...</td>\n",
              "    </tr>\n",
              "    <tr>\n",
              "      <th>7901</th>\n",
              "      <td>5</td>\n",
              "      <td>20</td>\n",
              "      <td>111</td>\n",
              "      <td>0</td>\n",
              "      <td>111</td>\n",
              "      <td>111105</td>\n",
              "      <td>111105</td>\n",
              "      <td>Villasimius</td>\n",
              "      <td>NaN</td>\n",
              "      <td>0</td>\n",
              "      <td>49918.361745</td>\n",
              "      <td>5.756161e+07</td>\n",
              "      <td>MULTIPOLYGON (((1061659.437 4733278.201, 10616...</td>\n",
              "    </tr>\n",
              "    <tr>\n",
              "      <th>7902</th>\n",
              "      <td>5</td>\n",
              "      <td>20</td>\n",
              "      <td>111</td>\n",
              "      <td>0</td>\n",
              "      <td>111</td>\n",
              "      <td>111106</td>\n",
              "      <td>111106</td>\n",
              "      <td>Villasor</td>\n",
              "      <td>NaN</td>\n",
              "      <td>0</td>\n",
              "      <td>53375.684321</td>\n",
              "      <td>8.640693e+07</td>\n",
              "      <td>POLYGON ((1002344.056 4779213.244, 1002389.298...</td>\n",
              "    </tr>\n",
              "    <tr>\n",
              "      <th>7903</th>\n",
              "      <td>5</td>\n",
              "      <td>20</td>\n",
              "      <td>111</td>\n",
              "      <td>0</td>\n",
              "      <td>111</td>\n",
              "      <td>111107</td>\n",
              "      <td>111107</td>\n",
              "      <td>Villaspeciosa</td>\n",
              "      <td>NaN</td>\n",
              "      <td>0</td>\n",
              "      <td>32524.472837</td>\n",
              "      <td>2.725303e+07</td>\n",
              "      <td>POLYGON ((994295.952 4768803.807, 995220.994 4...</td>\n",
              "    </tr>\n",
              "  </tbody>\n",
              "</table>\n",
              "<p>7904 rows × 13 columns</p>\n",
              "</div>\n",
              "      <button class=\"colab-df-convert\" onclick=\"convertToInteractive('df-1e4547c1-2d0e-4fe4-a9ee-09e050ce0afb')\"\n",
              "              title=\"Convert this dataframe to an interactive table.\"\n",
              "              style=\"display:none;\">\n",
              "        \n",
              "  <svg xmlns=\"http://www.w3.org/2000/svg\" height=\"24px\"viewBox=\"0 0 24 24\"\n",
              "       width=\"24px\">\n",
              "    <path d=\"M0 0h24v24H0V0z\" fill=\"none\"/>\n",
              "    <path d=\"M18.56 5.44l.94 2.06.94-2.06 2.06-.94-2.06-.94-.94-2.06-.94 2.06-2.06.94zm-11 1L8.5 8.5l.94-2.06 2.06-.94-2.06-.94L8.5 2.5l-.94 2.06-2.06.94zm10 10l.94 2.06.94-2.06 2.06-.94-2.06-.94-.94-2.06-.94 2.06-2.06.94z\"/><path d=\"M17.41 7.96l-1.37-1.37c-.4-.4-.92-.59-1.43-.59-.52 0-1.04.2-1.43.59L10.3 9.45l-7.72 7.72c-.78.78-.78 2.05 0 2.83L4 21.41c.39.39.9.59 1.41.59.51 0 1.02-.2 1.41-.59l7.78-7.78 2.81-2.81c.8-.78.8-2.07 0-2.86zM5.41 20L4 18.59l7.72-7.72 1.47 1.35L5.41 20z\"/>\n",
              "  </svg>\n",
              "      </button>\n",
              "      \n",
              "  <style>\n",
              "    .colab-df-container {\n",
              "      display:flex;\n",
              "      flex-wrap:wrap;\n",
              "      gap: 12px;\n",
              "    }\n",
              "\n",
              "    .colab-df-convert {\n",
              "      background-color: #E8F0FE;\n",
              "      border: none;\n",
              "      border-radius: 50%;\n",
              "      cursor: pointer;\n",
              "      display: none;\n",
              "      fill: #1967D2;\n",
              "      height: 32px;\n",
              "      padding: 0 0 0 0;\n",
              "      width: 32px;\n",
              "    }\n",
              "\n",
              "    .colab-df-convert:hover {\n",
              "      background-color: #E2EBFA;\n",
              "      box-shadow: 0px 1px 2px rgba(60, 64, 67, 0.3), 0px 1px 3px 1px rgba(60, 64, 67, 0.15);\n",
              "      fill: #174EA6;\n",
              "    }\n",
              "\n",
              "    [theme=dark] .colab-df-convert {\n",
              "      background-color: #3B4455;\n",
              "      fill: #D2E3FC;\n",
              "    }\n",
              "\n",
              "    [theme=dark] .colab-df-convert:hover {\n",
              "      background-color: #434B5C;\n",
              "      box-shadow: 0px 1px 3px 1px rgba(0, 0, 0, 0.15);\n",
              "      filter: drop-shadow(0px 1px 2px rgba(0, 0, 0, 0.3));\n",
              "      fill: #FFFFFF;\n",
              "    }\n",
              "  </style>\n",
              "\n",
              "      <script>\n",
              "        const buttonEl =\n",
              "          document.querySelector('#df-1e4547c1-2d0e-4fe4-a9ee-09e050ce0afb button.colab-df-convert');\n",
              "        buttonEl.style.display =\n",
              "          google.colab.kernel.accessAllowed ? 'block' : 'none';\n",
              "\n",
              "        async function convertToInteractive(key) {\n",
              "          const element = document.querySelector('#df-1e4547c1-2d0e-4fe4-a9ee-09e050ce0afb');\n",
              "          const dataTable =\n",
              "            await google.colab.kernel.invokeFunction('convertToInteractive',\n",
              "                                                     [key], {});\n",
              "          if (!dataTable) return;\n",
              "\n",
              "          const docLinkHtml = 'Like what you see? Visit the ' +\n",
              "            '<a target=\"_blank\" href=https://colab.research.google.com/notebooks/data_table.ipynb>data table notebook</a>'\n",
              "            + ' to learn more about interactive tables.';\n",
              "          element.innerHTML = '';\n",
              "          dataTable['output_type'] = 'display_data';\n",
              "          await google.colab.output.renderOutput(dataTable, element);\n",
              "          const docLink = document.createElement('div');\n",
              "          docLink.innerHTML = docLinkHtml;\n",
              "          element.appendChild(docLink);\n",
              "        }\n",
              "      </script>\n",
              "    </div>\n",
              "  </div>\n",
              "  "
            ]
          },
          "metadata": {},
          "execution_count": 5
        }
      ]
    },
    {
      "cell_type": "code",
      "source": [
        "quartieri = geopandas.read_file(\"/content/drive/MyDrive/Colab Notebooks/ds964_nil_wm.zip\")\n",
        "quartieri3857 = quartieri.to_crs(epsg=3857)\n",
        "quartieri3857.head()"
      ],
      "metadata": {
        "colab": {
          "base_uri": "https://localhost:8080/",
          "height": 337
        },
        "id": "jYtaB-lywt4S",
        "outputId": "9de1ad5a-b768-4a45-b920-cb52acb898b8"
      },
      "execution_count": null,
      "outputs": [
        {
          "output_type": "execute_result",
          "data": {
            "text/plain": [
              "   ID_NIL                                             NIL  Valido_dal  \\\n",
              "0      48  RONCHETTO SUL NAVIGLIO - Q.RE LODOVICO IL MORO  05/02/2020   \n",
              "1      64                                          TRENNO  05/02/2020   \n",
              "2      67                                        PORTELLO  05/02/2020   \n",
              "3      81                                       BOVISASCA  05/02/2020   \n",
              "4      84                                      PARCO NORD  05/02/2020   \n",
              "\n",
              "  Valido_al                        Fonte    Shape_Leng    Shape_Area  \\\n",
              "0   Vigente  Milano 2030 - PGT Approvato   8723.368714  2.406306e+06   \n",
              "1   Vigente  Milano 2030 - PGT Approvato   3309.998800  4.896921e+05   \n",
              "2   Vigente  Milano 2030 - PGT Approvato   3800.750663  9.096022e+05   \n",
              "3   Vigente  Milano 2030 - PGT Approvato   7105.469715  1.578028e+06   \n",
              "4   Vigente  Milano 2030 - PGT Approvato  11741.717005  1.532331e+06   \n",
              "\n",
              "   OBJECTID                                           geometry  \n",
              "0        89  POLYGON ((1019043.223 5690701.816, 1019040.205...  \n",
              "1        90  POLYGON ((1013700.561 5699020.396, 1013336.225...  \n",
              "2        91  POLYGON ((1019281.533 5698653.937, 1019379.177...  \n",
              "3        92  POLYGON ((1020580.947 5704131.420, 1020451.234...  \n",
              "4        93  POLYGON ((1024184.198 5705106.594, 1024200.172...  "
            ],
            "text/html": [
              "\n",
              "  <div id=\"df-8adae806-c2e7-43fc-8aee-312413eef99d\">\n",
              "    <div class=\"colab-df-container\">\n",
              "      <div>\n",
              "<style scoped>\n",
              "    .dataframe tbody tr th:only-of-type {\n",
              "        vertical-align: middle;\n",
              "    }\n",
              "\n",
              "    .dataframe tbody tr th {\n",
              "        vertical-align: top;\n",
              "    }\n",
              "\n",
              "    .dataframe thead th {\n",
              "        text-align: right;\n",
              "    }\n",
              "</style>\n",
              "<table border=\"1\" class=\"dataframe\">\n",
              "  <thead>\n",
              "    <tr style=\"text-align: right;\">\n",
              "      <th></th>\n",
              "      <th>ID_NIL</th>\n",
              "      <th>NIL</th>\n",
              "      <th>Valido_dal</th>\n",
              "      <th>Valido_al</th>\n",
              "      <th>Fonte</th>\n",
              "      <th>Shape_Leng</th>\n",
              "      <th>Shape_Area</th>\n",
              "      <th>OBJECTID</th>\n",
              "      <th>geometry</th>\n",
              "    </tr>\n",
              "  </thead>\n",
              "  <tbody>\n",
              "    <tr>\n",
              "      <th>0</th>\n",
              "      <td>48</td>\n",
              "      <td>RONCHETTO SUL NAVIGLIO - Q.RE LODOVICO IL MORO</td>\n",
              "      <td>05/02/2020</td>\n",
              "      <td>Vigente</td>\n",
              "      <td>Milano 2030 - PGT Approvato</td>\n",
              "      <td>8723.368714</td>\n",
              "      <td>2.406306e+06</td>\n",
              "      <td>89</td>\n",
              "      <td>POLYGON ((1019043.223 5690701.816, 1019040.205...</td>\n",
              "    </tr>\n",
              "    <tr>\n",
              "      <th>1</th>\n",
              "      <td>64</td>\n",
              "      <td>TRENNO</td>\n",
              "      <td>05/02/2020</td>\n",
              "      <td>Vigente</td>\n",
              "      <td>Milano 2030 - PGT Approvato</td>\n",
              "      <td>3309.998800</td>\n",
              "      <td>4.896921e+05</td>\n",
              "      <td>90</td>\n",
              "      <td>POLYGON ((1013700.561 5699020.396, 1013336.225...</td>\n",
              "    </tr>\n",
              "    <tr>\n",
              "      <th>2</th>\n",
              "      <td>67</td>\n",
              "      <td>PORTELLO</td>\n",
              "      <td>05/02/2020</td>\n",
              "      <td>Vigente</td>\n",
              "      <td>Milano 2030 - PGT Approvato</td>\n",
              "      <td>3800.750663</td>\n",
              "      <td>9.096022e+05</td>\n",
              "      <td>91</td>\n",
              "      <td>POLYGON ((1019281.533 5698653.937, 1019379.177...</td>\n",
              "    </tr>\n",
              "    <tr>\n",
              "      <th>3</th>\n",
              "      <td>81</td>\n",
              "      <td>BOVISASCA</td>\n",
              "      <td>05/02/2020</td>\n",
              "      <td>Vigente</td>\n",
              "      <td>Milano 2030 - PGT Approvato</td>\n",
              "      <td>7105.469715</td>\n",
              "      <td>1.578028e+06</td>\n",
              "      <td>92</td>\n",
              "      <td>POLYGON ((1020580.947 5704131.420, 1020451.234...</td>\n",
              "    </tr>\n",
              "    <tr>\n",
              "      <th>4</th>\n",
              "      <td>84</td>\n",
              "      <td>PARCO NORD</td>\n",
              "      <td>05/02/2020</td>\n",
              "      <td>Vigente</td>\n",
              "      <td>Milano 2030 - PGT Approvato</td>\n",
              "      <td>11741.717005</td>\n",
              "      <td>1.532331e+06</td>\n",
              "      <td>93</td>\n",
              "      <td>POLYGON ((1024184.198 5705106.594, 1024200.172...</td>\n",
              "    </tr>\n",
              "  </tbody>\n",
              "</table>\n",
              "</div>\n",
              "      <button class=\"colab-df-convert\" onclick=\"convertToInteractive('df-8adae806-c2e7-43fc-8aee-312413eef99d')\"\n",
              "              title=\"Convert this dataframe to an interactive table.\"\n",
              "              style=\"display:none;\">\n",
              "        \n",
              "  <svg xmlns=\"http://www.w3.org/2000/svg\" height=\"24px\"viewBox=\"0 0 24 24\"\n",
              "       width=\"24px\">\n",
              "    <path d=\"M0 0h24v24H0V0z\" fill=\"none\"/>\n",
              "    <path d=\"M18.56 5.44l.94 2.06.94-2.06 2.06-.94-2.06-.94-.94-2.06-.94 2.06-2.06.94zm-11 1L8.5 8.5l.94-2.06 2.06-.94-2.06-.94L8.5 2.5l-.94 2.06-2.06.94zm10 10l.94 2.06.94-2.06 2.06-.94-2.06-.94-.94-2.06-.94 2.06-2.06.94z\"/><path d=\"M17.41 7.96l-1.37-1.37c-.4-.4-.92-.59-1.43-.59-.52 0-1.04.2-1.43.59L10.3 9.45l-7.72 7.72c-.78.78-.78 2.05 0 2.83L4 21.41c.39.39.9.59 1.41.59.51 0 1.02-.2 1.41-.59l7.78-7.78 2.81-2.81c.8-.78.8-2.07 0-2.86zM5.41 20L4 18.59l7.72-7.72 1.47 1.35L5.41 20z\"/>\n",
              "  </svg>\n",
              "      </button>\n",
              "      \n",
              "  <style>\n",
              "    .colab-df-container {\n",
              "      display:flex;\n",
              "      flex-wrap:wrap;\n",
              "      gap: 12px;\n",
              "    }\n",
              "\n",
              "    .colab-df-convert {\n",
              "      background-color: #E8F0FE;\n",
              "      border: none;\n",
              "      border-radius: 50%;\n",
              "      cursor: pointer;\n",
              "      display: none;\n",
              "      fill: #1967D2;\n",
              "      height: 32px;\n",
              "      padding: 0 0 0 0;\n",
              "      width: 32px;\n",
              "    }\n",
              "\n",
              "    .colab-df-convert:hover {\n",
              "      background-color: #E2EBFA;\n",
              "      box-shadow: 0px 1px 2px rgba(60, 64, 67, 0.3), 0px 1px 3px 1px rgba(60, 64, 67, 0.15);\n",
              "      fill: #174EA6;\n",
              "    }\n",
              "\n",
              "    [theme=dark] .colab-df-convert {\n",
              "      background-color: #3B4455;\n",
              "      fill: #D2E3FC;\n",
              "    }\n",
              "\n",
              "    [theme=dark] .colab-df-convert:hover {\n",
              "      background-color: #434B5C;\n",
              "      box-shadow: 0px 1px 3px 1px rgba(0, 0, 0, 0.15);\n",
              "      filter: drop-shadow(0px 1px 2px rgba(0, 0, 0, 0.3));\n",
              "      fill: #FFFFFF;\n",
              "    }\n",
              "  </style>\n",
              "\n",
              "      <script>\n",
              "        const buttonEl =\n",
              "          document.querySelector('#df-8adae806-c2e7-43fc-8aee-312413eef99d button.colab-df-convert');\n",
              "        buttonEl.style.display =\n",
              "          google.colab.kernel.accessAllowed ? 'block' : 'none';\n",
              "\n",
              "        async function convertToInteractive(key) {\n",
              "          const element = document.querySelector('#df-8adae806-c2e7-43fc-8aee-312413eef99d');\n",
              "          const dataTable =\n",
              "            await google.colab.kernel.invokeFunction('convertToInteractive',\n",
              "                                                     [key], {});\n",
              "          if (!dataTable) return;\n",
              "\n",
              "          const docLinkHtml = 'Like what you see? Visit the ' +\n",
              "            '<a target=\"_blank\" href=https://colab.research.google.com/notebooks/data_table.ipynb>data table notebook</a>'\n",
              "            + ' to learn more about interactive tables.';\n",
              "          element.innerHTML = '';\n",
              "          dataTable['output_type'] = 'display_data';\n",
              "          await google.colab.output.renderOutput(dataTable, element);\n",
              "          const docLink = document.createElement('div');\n",
              "          docLink.innerHTML = docLinkHtml;\n",
              "          element.appendChild(docLink);\n",
              "        }\n",
              "      </script>\n",
              "    </div>\n",
              "  </div>\n",
              "  "
            ]
          },
          "metadata": {},
          "execution_count": 6
        }
      ]
    },
    {
      "cell_type": "markdown",
      "source": [
        "1. visualizzi su una mappa i 10 corsi d'acqua più lunghi della provincia di Milano"
      ],
      "metadata": {
        "id": "gKChf7QepkBK"
      }
    },
    {
      "cell_type": "code",
      "source": [
        "corsi_lunghi = corsi_acqua3857.sort_values('SHAPE_LEN', ascending=False)[:10]\n",
        "ax = corsi_lunghi.plot(edgecolor =  \"k\", facecolor = \"None\",figsize=(12,6),markersize = 5)\n",
        "contextily.add_basemap(ax)"
      ],
      "metadata": {
        "id": "BTfEl92rr05R"
      },
      "execution_count": null,
      "outputs": []
    },
    {
      "cell_type": "markdown",
      "source": [
        "2. visualizzi su una mappa i Navigli e i fiumi da cui prendono l'acqua. Utilizzare colori diversi per rappresentare i navigli rispetto ai fiumi ed evidenziare bene i percorsi sulla mappa"
      ],
      "metadata": {
        "id": "O7m7UVEkpnCq"
      }
    },
    {
      "cell_type": "code",
      "source": [
        "navigli = corsi_acqua3857[corsi_acqua3857[\"NOME\"].str.contains(\"Naviglio\")]"
      ],
      "metadata": {
        "id": "Kh3pXDObr_uy"
      },
      "execution_count": null,
      "outputs": []
    },
    {
      "cell_type": "code",
      "source": [
        "Navigli_interseca= corsi_acqua3857[corsi_acqua3857.touches(navigli.unary_union)]\n",
        "Navigli_interseca"
      ],
      "metadata": {
        "id": "NxsdUtKottVp"
      },
      "execution_count": null,
      "outputs": []
    },
    {
      "cell_type": "code",
      "source": [
        "ax = navigli.plot(edgecolor =  \"k\", facecolor = \"None\",figsize=(12,6))\n",
        "Navigli_interseca.plot(ax=ax,edgecolor =  \"blue\", facecolor = \"None\",figsize=(12,6))\n",
        "contextily.add_basemap(ax)"
      ],
      "metadata": {
        "id": "pZ-e6qCw8_NY"
      },
      "execution_count": null,
      "outputs": []
    },
    {
      "cell_type": "markdown",
      "source": [
        "3. visualizzi su una mappa i corsi d'acqua che passano in un comune inserito dall'utente"
      ],
      "metadata": {
        "id": "Szwyb6a5pmop"
      }
    },
    {
      "cell_type": "code",
      "source": [
        "comuneInput = input(\"inserisci un comune: \")\n",
        "comu = comuni3857[comuni3857[\"COMUNE\"]== comuneInput]\n",
        "comuni_in_corsi = corsi_acqua3857[corsi_acqua3857.intersects(comu.geometry.item())]\n",
        "ax = comu.plot(edgecolor =  \"k\", facecolor = \"None\",figsize=(12,6))\n",
        "comuni_in_corsi.plot(ax=ax, edgecolor =  \"blue\", facecolor = \"None\",figsize=(12,6))\n",
        "contextily.add_basemap(ax)"
      ],
      "metadata": {
        "id": "0sObZTx5tGoK"
      },
      "execution_count": null,
      "outputs": []
    },
    {
      "cell_type": "markdown",
      "source": [
        "4. visualizzi su una mappa un fiume inserito dall'utente con tutti i comuni  che attraversa. Se attraversa Milano, visualizzare solo i quartieri che attraversa"
      ],
      "metadata": {
        "id": "w1oT3IShpmep"
      }
    },
    {
      "cell_type": "code",
      "source": [
        "fiumeInput = input(\"inserisci un comune: \")\n",
        "fiu = corsi_acqua3857[corsi_acqua3857[\"NOME\"].str.contains(fiumeInput)]\n",
        "comuni_in_corsi = comuni3857[comuni3857.intersects(fiu.unary_union)]\n",
        "quartieri_in_corsi = quartieri3857[quartieri3857.intersects(fiu.unary_union)]\n",
        "ax = comuni_in_corsi.plot(edgecolor =  \"k\", facecolor = \"None\",figsize=(12,6))\n",
        "quartieri_in_corsi.plot(ax=ax,edgecolor =  \"green\", facecolor = \"None\")\n",
        "fiu.plot(ax=ax,edgecolor =  \"blue\", facecolor = \"None\")\n",
        "contextily.add_basemap(ax)"
      ],
      "metadata": {
        "id": "FBCZ0QdhtHCJ"
      },
      "execution_count": null,
      "outputs": []
    },
    {
      "cell_type": "markdown",
      "source": [
        "5. visualizzi il numero di corsi d'acqua della provincia di Milano e la lunghezza totale di tutti i corsi d'acqua"
      ],
      "metadata": {
        "id": "pRywccihpmUx"
      }
    },
    {
      "cell_type": "code",
      "source": [
        "provincia_milano = provincie3857[provincie3857[\"DEN_UTS\"] == \"Milano\"] "
      ],
      "metadata": {
        "id": "j1K1ZPiw1gqJ"
      },
      "execution_count": null,
      "outputs": []
    },
    {
      "cell_type": "code",
      "source": [
        "corsi_Milano = corsi_acqua3857[corsi_acqua3857.intersects(provincia_milano.geometry.item())]\n",
        "print(corsi_Milano[\"SHAPE_LEN\"].sum())\n",
        "print(len(corsi_Milano))"
      ],
      "metadata": {
        "colab": {
          "base_uri": "https://localhost:8080/"
        },
        "id": "b9FchbCRtHZx",
        "outputId": "e8977100-7b98-41b3-e5db-dd36bdef8af4"
      },
      "execution_count": null,
      "outputs": [
        {
          "output_type": "stream",
          "name": "stdout",
          "text": [
            "1083787.6793008223\n",
            "45\n"
          ]
        }
      ]
    },
    {
      "cell_type": "markdown",
      "source": [
        "6. visualizzi su una mappa i comuni della provincia di Milano che non sono attraversati da corsi d'acqua"
      ],
      "metadata": {
        "id": "PbAculX_plxp"
      }
    },
    {
      "cell_type": "code",
      "source": [
        "provincia_milano = provincie3857[provincie3857[\"DEN_UTS\"] == \"Milano\"] \n",
        "cumuni_prov_Milano = comuni3857[comuni3857.intersects(provincia_milano.geometry.item())]\n",
        "cumuni_prov_Milano_no_acqua = cumuni_prov_Milano[~cumuni_prov_Milano.intersects(corsi_acqua3857.unary_union)]#~ negazione\n",
        "cumuni_prov_Milano_no_acqua"
      ],
      "metadata": {
        "id": "eiXnmU1atHzw"
      },
      "execution_count": null,
      "outputs": []
    }
  ]
}