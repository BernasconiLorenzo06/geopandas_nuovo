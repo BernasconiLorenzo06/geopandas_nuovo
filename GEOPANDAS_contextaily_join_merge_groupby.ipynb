{
  "nbformat": 4,
  "nbformat_minor": 0,
  "metadata": {
    "colab": {
      "provenance": [],
      "authorship_tag": "ABX9TyMtN3l82Doo5b/kehZmdZIQ",
      "include_colab_link": true
    },
    "kernelspec": {
      "name": "python3",
      "display_name": "Python 3"
    },
    "language_info": {
      "name": "python"
    }
  },
  "cells": [
    {
      "cell_type": "markdown",
      "metadata": {
        "id": "view-in-github",
        "colab_type": "text"
      },
      "source": [
        "<a href=\"https://colab.research.google.com/github/BernasconiLorenzo06/geopandas_nuovo/blob/main/GEOPANDAS_contextaily_join_merge_groupby.ipynb\" target=\"_parent\"><img src=\"https://colab.research.google.com/assets/colab-badge.svg\" alt=\"Open In Colab\"/></a>"
      ]
    },
    {
      "cell_type": "code",
      "execution_count": null,
      "metadata": {
        "colab": {
          "base_uri": "https://localhost:8080/"
        },
        "id": "OkKkvA3k1W2k",
        "outputId": "e2cee3fc-4267-4d90-8208-f497ad9fb662"
      },
      "outputs": [
        {
          "output_type": "stream",
          "name": "stdout",
          "text": [
            "Mounted at /content/drive\n"
          ]
        }
      ],
      "source": [
        "from google.colab import drive\n",
        "drive.mount('/content/drive')"
      ]
    },
    {
      "cell_type": "code",
      "source": [
        "!pip install geopandas\n",
        "import pandas as pd\n",
        "import geopandas\n",
        "import matplotlib.pyplot as plt"
      ],
      "metadata": {
        "id": "GIcyUaHF17JJ",
        "colab": {
          "base_uri": "https://localhost:8080/"
        },
        "outputId": "741e620f-0d18-4f03-c0d5-f8bea61bf2ba"
      },
      "execution_count": null,
      "outputs": [
        {
          "output_type": "stream",
          "name": "stdout",
          "text": [
            "Looking in indexes: https://pypi.org/simple, https://us-python.pkg.dev/colab-wheels/public/simple/\n",
            "Collecting geopandas\n",
            "  Downloading geopandas-0.13.0-py3-none-any.whl (1.1 MB)\n",
            "\u001b[2K     \u001b[90m━━━━━━━━━━━━━━━━━━━━━━━━━━━━━━━━━━━━━━━━\u001b[0m \u001b[32m1.1/1.1 MB\u001b[0m \u001b[31m25.9 MB/s\u001b[0m eta \u001b[36m0:00:00\u001b[0m\n",
            "\u001b[?25hRequirement already satisfied: packaging in /usr/local/lib/python3.10/dist-packages (from geopandas) (23.1)\n",
            "Requirement already satisfied: shapely>=1.7.1 in /usr/local/lib/python3.10/dist-packages (from geopandas) (2.0.1)\n",
            "Collecting pyproj>=3.0.1\n",
            "  Downloading pyproj-3.5.0-cp310-cp310-manylinux_2_17_x86_64.manylinux2014_x86_64.whl (7.7 MB)\n",
            "\u001b[2K     \u001b[90m━━━━━━━━━━━━━━━━━━━━━━━━━━━━━━━━━━━━━━━━\u001b[0m \u001b[32m7.7/7.7 MB\u001b[0m \u001b[31m94.8 MB/s\u001b[0m eta \u001b[36m0:00:00\u001b[0m\n",
            "\u001b[?25hCollecting fiona>=1.8.19\n",
            "  Downloading Fiona-1.9.3-cp310-cp310-manylinux_2_17_x86_64.manylinux2014_x86_64.whl (16.0 MB)\n",
            "\u001b[2K     \u001b[90m━━━━━━━━━━━━━━━━━━━━━━━━━━━━━━━━━━━━━━━━\u001b[0m \u001b[32m16.0/16.0 MB\u001b[0m \u001b[31m79.1 MB/s\u001b[0m eta \u001b[36m0:00:00\u001b[0m\n",
            "\u001b[?25hRequirement already satisfied: pandas>=1.1.0 in /usr/local/lib/python3.10/dist-packages (from geopandas) (1.5.3)\n",
            "Requirement already satisfied: click~=8.0 in /usr/local/lib/python3.10/dist-packages (from fiona>=1.8.19->geopandas) (8.1.3)\n",
            "Collecting cligj>=0.5\n",
            "  Downloading cligj-0.7.2-py3-none-any.whl (7.1 kB)\n",
            "Requirement already satisfied: certifi in /usr/local/lib/python3.10/dist-packages (from fiona>=1.8.19->geopandas) (2022.12.7)\n",
            "Collecting munch>=2.3.2\n",
            "  Downloading munch-2.5.0-py2.py3-none-any.whl (10 kB)\n",
            "Collecting click-plugins>=1.0\n",
            "  Downloading click_plugins-1.1.1-py2.py3-none-any.whl (7.5 kB)\n",
            "Requirement already satisfied: attrs>=19.2.0 in /usr/local/lib/python3.10/dist-packages (from fiona>=1.8.19->geopandas) (23.1.0)\n",
            "Requirement already satisfied: python-dateutil>=2.8.1 in /usr/local/lib/python3.10/dist-packages (from pandas>=1.1.0->geopandas) (2.8.2)\n",
            "Requirement already satisfied: numpy>=1.21.0 in /usr/local/lib/python3.10/dist-packages (from pandas>=1.1.0->geopandas) (1.22.4)\n",
            "Requirement already satisfied: pytz>=2020.1 in /usr/local/lib/python3.10/dist-packages (from pandas>=1.1.0->geopandas) (2022.7.1)\n",
            "Requirement already satisfied: six in /usr/local/lib/python3.10/dist-packages (from munch>=2.3.2->fiona>=1.8.19->geopandas) (1.16.0)\n",
            "Installing collected packages: pyproj, munch, cligj, click-plugins, fiona, geopandas\n",
            "Successfully installed click-plugins-1.1.1 cligj-0.7.2 fiona-1.9.3 geopandas-0.13.0 munch-2.5.0 pyproj-3.5.0\n"
          ]
        }
      ]
    },
    {
      "cell_type": "code",
      "source": [
        "!pip install contextily\n",
        "import contextily"
      ],
      "metadata": {
        "id": "bFde8c2T6tD5"
      },
      "execution_count": null,
      "outputs": []
    },
    {
      "cell_type": "code",
      "source": [
        "incidenti = geopandas.read_file(\"/content/drive/MyDrive/Colab Notebooks/incidenti.zip\")\n",
        "incidenti\n",
        "     "
      ],
      "metadata": {
        "id": "kfOFx4CC2Bjx"
      },
      "execution_count": null,
      "outputs": []
    },
    {
      "cell_type": "code",
      "source": [
        "incidenti.plot(edgecolor =  \"red\", facecolor = \"None\",figsize=(12,6),markersize = 1)"
      ],
      "metadata": {
        "id": "nJACHS552XVK"
      },
      "execution_count": null,
      "outputs": []
    },
    {
      "cell_type": "code",
      "source": [
        "incidenti3857 = incidenti.to_crs(epsg=3857)\n",
        "ax = incidenti3857.plot(edgecolor =  \"red\", facecolor = \"None\",figsize=(12,6),markersize = 1)\n",
        "contextily.add_basemap(ax)\n"
      ],
      "metadata": {
        "id": "3MT1Irrv6hF5"
      },
      "execution_count": null,
      "outputs": []
    },
    {
      "cell_type": "code",
      "source": [
        "comuni = geopandas.read_file(\"/content/drive/MyDrive/Colab Notebooks/Com01012022_g\")\n",
        "comuni\n",
        "     "
      ],
      "metadata": {
        "id": "viRKv7rV8BQh"
      },
      "execution_count": null,
      "outputs": []
    },
    {
      "cell_type": "code",
      "source": [
        "punti = incidenti3857.geometry.unary_union"
      ],
      "metadata": {
        "id": "cY_4QKkM9HvA"
      },
      "execution_count": null,
      "outputs": []
    },
    {
      "cell_type": "code",
      "source": [
        "comuni3857 = comuni.to_crs(epsg=3857)\n",
        "comuniIncidenti = comuni3857[comuni3857.intersects(punti)]\n",
        "comuniIncidenti"
      ],
      "metadata": {
        "id": "sWn9_WAI8sBZ"
      },
      "execution_count": null,
      "outputs": []
    },
    {
      "cell_type": "code",
      "source": [
        "ax = comuniIncidenti.plot(edgecolor =  \"k\", facecolor = \"green\",figsize=(12,6))\n",
        "seriePunti = geopandas.GeoSeries(punti)\n",
        "seriePunti.plot(ax= ax ,edgecolor =  \"k\", facecolor = \"None\",markersize = 1)\n",
        "contextily.add_basemap(ax)"
      ],
      "metadata": {
        "id": "xJ3UpEDD88cn"
      },
      "execution_count": null,
      "outputs": []
    },
    {
      "cell_type": "markdown",
      "source": [
        "Colorare poi in varie gradazioni di verde le superfici dei comuni a seconda del numero di incidenti accaduti nel loro territorio.\n"
      ],
      "metadata": {
        "id": "nzGvER_-CPJ_"
      }
    },
    {
      "cell_type": "code",
      "source": [
        "incidenti3857 = incidenti.to_crs(epsg=3857)\n",
        "comuni3857 = comuni.to_crs(epsg=3857)"
      ],
      "metadata": {
        "id": "RxHOQNWQCYL4"
      },
      "execution_count": null,
      "outputs": []
    },
    {
      "cell_type": "code",
      "source": [
        "joined = geopandas.sjoin(incidenti3857, comuniIncidenti, predicate=\"intersects\", how=\"left\")\n",
        "joined"
      ],
      "metadata": {
        "id": "x7XDX9ysCRV3"
      },
      "execution_count": null,
      "outputs": []
    },
    {
      "cell_type": "code",
      "source": [
        "incidenti_comuni = joined.groupby(\"COMUNE\").count()[[\"anno\"]].reset_index()\n",
        "incidenti_comuni"
      ],
      "metadata": {
        "id": "qAqtc5keCsfu"
      },
      "execution_count": null,
      "outputs": []
    },
    {
      "cell_type": "code",
      "source": [
        "finale = comuni3857.merge(incidenti_comuni)\n",
        "finale"
      ],
      "metadata": {
        "id": "JsSrwd2nECEn"
      },
      "execution_count": null,
      "outputs": []
    },
    {
      "cell_type": "code",
      "source": [
        "ax = finale.plot(edgecolor =  \"red\",facecolor = \"green\" , figsize=(12,6),legend = True,column = \"anno\", cmap = \"Greens\",alpha = 0.5)\n",
        "contextily.add_basemap(ax)\n"
      ],
      "metadata": {
        "id": "nNaDEK63EMav"
      },
      "execution_count": null,
      "outputs": []
    }
  ]
}