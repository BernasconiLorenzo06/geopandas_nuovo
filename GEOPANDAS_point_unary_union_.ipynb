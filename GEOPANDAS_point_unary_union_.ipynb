{
  "nbformat": 4,
  "nbformat_minor": 0,
  "metadata": {
    "colab": {
      "provenance": [],
      "authorship_tag": "ABX9TyMP1pw+keCsPmX/vRDB9xoW",
      "include_colab_link": true
    },
    "kernelspec": {
      "name": "python3",
      "display_name": "Python 3"
    },
    "language_info": {
      "name": "python"
    }
  },
  "cells": [
    {
      "cell_type": "markdown",
      "metadata": {
        "id": "view-in-github",
        "colab_type": "text"
      },
      "source": [
        "<a href=\"https://colab.research.google.com/github/BernasconiLorenzo06/geopandas_nuovo/blob/main/GEOPANDAS_point_unary_union_.ipynb\" target=\"_parent\"><img src=\"https://colab.research.google.com/assets/colab-badge.svg\" alt=\"Open In Colab\"/></a>"
      ]
    },
    {
      "cell_type": "code",
      "execution_count": null,
      "metadata": {
        "colab": {
          "base_uri": "https://localhost:8080/"
        },
        "id": "DpzNirQvDo1D",
        "outputId": "806f7b71-b981-4cd3-b732-ad7e96454958"
      },
      "outputs": [
        {
          "output_type": "stream",
          "name": "stdout",
          "text": [
            "Mounted at /content/drive\n"
          ]
        }
      ],
      "source": [
        "from google.colab import drive\n",
        "drive.mount('/content/drive')"
      ]
    },
    {
      "cell_type": "code",
      "source": [
        "!pip install geopandas\n",
        "import pandas as pd\n",
        "import geopandas\n",
        "import matplotlib.pyplot as plt"
      ],
      "metadata": {
        "id": "hvME5NvtDtpT"
      },
      "execution_count": null,
      "outputs": []
    },
    {
      "cell_type": "code",
      "source": [
        "!pip install contextily\n",
        "import contextily"
      ],
      "metadata": {
        "id": "cv2MZiePDv3T"
      },
      "execution_count": null,
      "outputs": []
    },
    {
      "cell_type": "code",
      "source": [
        "parchi = geopandas.read_file(\"/content/drive/MyDrive/Colab Notebooks/Parchi_regionali_e_nazionali_polygon.zip\")\n",
        "parchi\n",
        "parchi3857 = parchi.to_crs(epsg=3857)\n",
        "parchi3857.head()"
      ],
      "metadata": {
        "colab": {
          "base_uri": "https://localhost:8080/",
          "height": 337
        },
        "id": "YVEvCBBVEbjM",
        "outputId": "4f137855-4998-475e-b44f-b9c8dcd8b1a2"
      },
      "execution_count": null,
      "outputs": [
        {
          "output_type": "execute_result",
          "data": {
            "text/plain": [
              "   FID                            NOME  COD_AREA CLASSIF  \\\n",
              "0    5  Parco Alpi Orobie Valtellinesi        18      23   \n",
              "1    6   Parco Alpi Orobie Bergamasche        17      23   \n",
              "2    7           Parco Campo dei Fiori         9      23   \n",
              "3    8      Parco Alto Garda Bresciano         7      23   \n",
              "4    1              National Park (CH)        99       0   \n",
              "\n",
              "                    DCLASSIF  TIPO            DTIPO  TIPO_AREA  \\\n",
              "0  Parco forestale e montano     2  Parco Regionale          1   \n",
              "1  Parco forestale e montano     2  Parco Regionale          1   \n",
              "2  Parco forestale e montano     2  Parco Regionale          1   \n",
              "3  Parco forestale e montano     2  Parco Regionale          1   \n",
              "4               Non valutato     1  Parco Nazionale          3   \n",
              "\n",
              "            DTIPO_AREA                           COD_NOME  \\\n",
              "0       Area Regionale  18:Parco Alpi Orobie Valtellinesi   \n",
              "1       Area Regionale   17:Parco Alpi Orobie Bergamasche   \n",
              "2       Area Regionale           9: Parco Campo dei Fiori   \n",
              "3       Area Regionale      7: Parco Alto Garda Bresciano   \n",
              "4  Area extranazionale              99:National Park (CH)   \n",
              "\n",
              "                                            geometry  \n",
              "0  POLYGON ((1128042.263 5798867.055, 1128098.371...  \n",
              "1  POLYGON ((1125919.619 5789325.159, 1126144.037...  \n",
              "2  POLYGON ((982569.671 5757847.101, 982559.940 5...  \n",
              "3  POLYGON ((1170172.157 5719911.838, 1170179.753...  \n",
              "4  POLYGON ((1124080.438 5876616.402, 1123618.783...  "
            ],
            "text/html": [
              "\n",
              "  <div id=\"df-e78bac4a-23e2-4730-85ec-f1f9ecaad912\">\n",
              "    <div class=\"colab-df-container\">\n",
              "      <div>\n",
              "<style scoped>\n",
              "    .dataframe tbody tr th:only-of-type {\n",
              "        vertical-align: middle;\n",
              "    }\n",
              "\n",
              "    .dataframe tbody tr th {\n",
              "        vertical-align: top;\n",
              "    }\n",
              "\n",
              "    .dataframe thead th {\n",
              "        text-align: right;\n",
              "    }\n",
              "</style>\n",
              "<table border=\"1\" class=\"dataframe\">\n",
              "  <thead>\n",
              "    <tr style=\"text-align: right;\">\n",
              "      <th></th>\n",
              "      <th>FID</th>\n",
              "      <th>NOME</th>\n",
              "      <th>COD_AREA</th>\n",
              "      <th>CLASSIF</th>\n",
              "      <th>DCLASSIF</th>\n",
              "      <th>TIPO</th>\n",
              "      <th>DTIPO</th>\n",
              "      <th>TIPO_AREA</th>\n",
              "      <th>DTIPO_AREA</th>\n",
              "      <th>COD_NOME</th>\n",
              "      <th>geometry</th>\n",
              "    </tr>\n",
              "  </thead>\n",
              "  <tbody>\n",
              "    <tr>\n",
              "      <th>0</th>\n",
              "      <td>5</td>\n",
              "      <td>Parco Alpi Orobie Valtellinesi</td>\n",
              "      <td>18</td>\n",
              "      <td>23</td>\n",
              "      <td>Parco forestale e montano</td>\n",
              "      <td>2</td>\n",
              "      <td>Parco Regionale</td>\n",
              "      <td>1</td>\n",
              "      <td>Area Regionale</td>\n",
              "      <td>18:Parco Alpi Orobie Valtellinesi</td>\n",
              "      <td>POLYGON ((1128042.263 5798867.055, 1128098.371...</td>\n",
              "    </tr>\n",
              "    <tr>\n",
              "      <th>1</th>\n",
              "      <td>6</td>\n",
              "      <td>Parco Alpi Orobie Bergamasche</td>\n",
              "      <td>17</td>\n",
              "      <td>23</td>\n",
              "      <td>Parco forestale e montano</td>\n",
              "      <td>2</td>\n",
              "      <td>Parco Regionale</td>\n",
              "      <td>1</td>\n",
              "      <td>Area Regionale</td>\n",
              "      <td>17:Parco Alpi Orobie Bergamasche</td>\n",
              "      <td>POLYGON ((1125919.619 5789325.159, 1126144.037...</td>\n",
              "    </tr>\n",
              "    <tr>\n",
              "      <th>2</th>\n",
              "      <td>7</td>\n",
              "      <td>Parco Campo dei Fiori</td>\n",
              "      <td>9</td>\n",
              "      <td>23</td>\n",
              "      <td>Parco forestale e montano</td>\n",
              "      <td>2</td>\n",
              "      <td>Parco Regionale</td>\n",
              "      <td>1</td>\n",
              "      <td>Area Regionale</td>\n",
              "      <td>9: Parco Campo dei Fiori</td>\n",
              "      <td>POLYGON ((982569.671 5757847.101, 982559.940 5...</td>\n",
              "    </tr>\n",
              "    <tr>\n",
              "      <th>3</th>\n",
              "      <td>8</td>\n",
              "      <td>Parco Alto Garda Bresciano</td>\n",
              "      <td>7</td>\n",
              "      <td>23</td>\n",
              "      <td>Parco forestale e montano</td>\n",
              "      <td>2</td>\n",
              "      <td>Parco Regionale</td>\n",
              "      <td>1</td>\n",
              "      <td>Area Regionale</td>\n",
              "      <td>7: Parco Alto Garda Bresciano</td>\n",
              "      <td>POLYGON ((1170172.157 5719911.838, 1170179.753...</td>\n",
              "    </tr>\n",
              "    <tr>\n",
              "      <th>4</th>\n",
              "      <td>1</td>\n",
              "      <td>National Park (CH)</td>\n",
              "      <td>99</td>\n",
              "      <td>0</td>\n",
              "      <td>Non valutato</td>\n",
              "      <td>1</td>\n",
              "      <td>Parco Nazionale</td>\n",
              "      <td>3</td>\n",
              "      <td>Area extranazionale</td>\n",
              "      <td>99:National Park (CH)</td>\n",
              "      <td>POLYGON ((1124080.438 5876616.402, 1123618.783...</td>\n",
              "    </tr>\n",
              "  </tbody>\n",
              "</table>\n",
              "</div>\n",
              "      <button class=\"colab-df-convert\" onclick=\"convertToInteractive('df-e78bac4a-23e2-4730-85ec-f1f9ecaad912')\"\n",
              "              title=\"Convert this dataframe to an interactive table.\"\n",
              "              style=\"display:none;\">\n",
              "        \n",
              "  <svg xmlns=\"http://www.w3.org/2000/svg\" height=\"24px\"viewBox=\"0 0 24 24\"\n",
              "       width=\"24px\">\n",
              "    <path d=\"M0 0h24v24H0V0z\" fill=\"none\"/>\n",
              "    <path d=\"M18.56 5.44l.94 2.06.94-2.06 2.06-.94-2.06-.94-.94-2.06-.94 2.06-2.06.94zm-11 1L8.5 8.5l.94-2.06 2.06-.94-2.06-.94L8.5 2.5l-.94 2.06-2.06.94zm10 10l.94 2.06.94-2.06 2.06-.94-2.06-.94-.94-2.06-.94 2.06-2.06.94z\"/><path d=\"M17.41 7.96l-1.37-1.37c-.4-.4-.92-.59-1.43-.59-.52 0-1.04.2-1.43.59L10.3 9.45l-7.72 7.72c-.78.78-.78 2.05 0 2.83L4 21.41c.39.39.9.59 1.41.59.51 0 1.02-.2 1.41-.59l7.78-7.78 2.81-2.81c.8-.78.8-2.07 0-2.86zM5.41 20L4 18.59l7.72-7.72 1.47 1.35L5.41 20z\"/>\n",
              "  </svg>\n",
              "      </button>\n",
              "      \n",
              "  <style>\n",
              "    .colab-df-container {\n",
              "      display:flex;\n",
              "      flex-wrap:wrap;\n",
              "      gap: 12px;\n",
              "    }\n",
              "\n",
              "    .colab-df-convert {\n",
              "      background-color: #E8F0FE;\n",
              "      border: none;\n",
              "      border-radius: 50%;\n",
              "      cursor: pointer;\n",
              "      display: none;\n",
              "      fill: #1967D2;\n",
              "      height: 32px;\n",
              "      padding: 0 0 0 0;\n",
              "      width: 32px;\n",
              "    }\n",
              "\n",
              "    .colab-df-convert:hover {\n",
              "      background-color: #E2EBFA;\n",
              "      box-shadow: 0px 1px 2px rgba(60, 64, 67, 0.3), 0px 1px 3px 1px rgba(60, 64, 67, 0.15);\n",
              "      fill: #174EA6;\n",
              "    }\n",
              "\n",
              "    [theme=dark] .colab-df-convert {\n",
              "      background-color: #3B4455;\n",
              "      fill: #D2E3FC;\n",
              "    }\n",
              "\n",
              "    [theme=dark] .colab-df-convert:hover {\n",
              "      background-color: #434B5C;\n",
              "      box-shadow: 0px 1px 3px 1px rgba(0, 0, 0, 0.15);\n",
              "      filter: drop-shadow(0px 1px 2px rgba(0, 0, 0, 0.3));\n",
              "      fill: #FFFFFF;\n",
              "    }\n",
              "  </style>\n",
              "\n",
              "      <script>\n",
              "        const buttonEl =\n",
              "          document.querySelector('#df-e78bac4a-23e2-4730-85ec-f1f9ecaad912 button.colab-df-convert');\n",
              "        buttonEl.style.display =\n",
              "          google.colab.kernel.accessAllowed ? 'block' : 'none';\n",
              "\n",
              "        async function convertToInteractive(key) {\n",
              "          const element = document.querySelector('#df-e78bac4a-23e2-4730-85ec-f1f9ecaad912');\n",
              "          const dataTable =\n",
              "            await google.colab.kernel.invokeFunction('convertToInteractive',\n",
              "                                                     [key], {});\n",
              "          if (!dataTable) return;\n",
              "\n",
              "          const docLinkHtml = 'Like what you see? Visit the ' +\n",
              "            '<a target=\"_blank\" href=https://colab.research.google.com/notebooks/data_table.ipynb>data table notebook</a>'\n",
              "            + ' to learn more about interactive tables.';\n",
              "          element.innerHTML = '';\n",
              "          dataTable['output_type'] = 'display_data';\n",
              "          await google.colab.output.renderOutput(dataTable, element);\n",
              "          const docLink = document.createElement('div');\n",
              "          docLink.innerHTML = docLinkHtml;\n",
              "          element.appendChild(docLink);\n",
              "        }\n",
              "      </script>\n",
              "    </div>\n",
              "  </div>\n",
              "  "
            ]
          },
          "metadata": {},
          "execution_count": 21
        }
      ]
    },
    {
      "cell_type": "code",
      "source": [
        "comuni = geopandas.read_file(\"/content/drive/MyDrive/Colab Notebooks/Com01012022_g\")\n",
        "comuni\n",
        "comuni3857 = comuni.to_crs(epsg=3857)\n",
        "comuni3857.head()"
      ],
      "metadata": {
        "id": "Rg4TgwuKFpUa"
      },
      "execution_count": null,
      "outputs": []
    },
    {
      "cell_type": "code",
      "source": [
        "provincie = geopandas.read_file(\"/content/drive/MyDrive/Colab Notebooks/ProvCM01012022_g\")\n",
        "provincie\n",
        "provincie3857 = provincie.to_crs(epsg=3857)\n",
        "provincie3857.head()"
      ],
      "metadata": {
        "id": "1c2-LPE9FuYl"
      },
      "execution_count": null,
      "outputs": []
    },
    {
      "cell_type": "code",
      "source": [
        "quartieri = geopandas.read_file(\"/content/drive/MyDrive/Colab Notebooks/ds964_nil_wm.zip\")\n",
        "quartieri3857 = quartieri.to_crs(epsg=3857)\n",
        "quartieri3857.head()"
      ],
      "metadata": {
        "id": "NP2I3glSGOAs"
      },
      "execution_count": null,
      "outputs": []
    },
    {
      "cell_type": "markdown",
      "source": [
        "per creare un punto"
      ],
      "metadata": {
        "id": "PS7ViXIJeGd0"
      }
    },
    {
      "cell_type": "code",
      "source": [
        "from shapely.geometry import Point"
      ],
      "metadata": {
        "id": "6SNFdEnreIeD"
      },
      "execution_count": null,
      "outputs": []
    },
    {
      "cell_type": "code",
      "source": [
        "milano2 = Point(9.1859243,45.4654219)\n"
      ],
      "metadata": {
        "id": "9hdYt01ueP37"
      },
      "execution_count": null,
      "outputs": []
    },
    {
      "cell_type": "code",
      "source": [
        "milano2Serie = geopandas.GeoSeries([milano2],crs = 4326).to_crs(epsg=3857)\n"
      ],
      "metadata": {
        "id": "Rg9Dvacnellk"
      },
      "execution_count": null,
      "outputs": []
    },
    {
      "cell_type": "code",
      "source": [
        "ax = milano2Serie.plot(figsize = (15, 12), edgecolor = \"none\", facecolor = \"k\")\n",
        "contextily.add_basemap(ax)"
      ],
      "metadata": {
        "id": "dDJMbNEaeifD"
      },
      "execution_count": null,
      "outputs": []
    },
    {
      "cell_type": "markdown",
      "source": [
        "1. visualizzi i parchi di Milano e i comuni che vi fanno parte (vedi immagine allegata)"
      ],
      "metadata": {
        "id": "iVzRHnxUE8Jz"
      }
    },
    {
      "cell_type": "code",
      "source": [
        "milano = comuni3857[comuni3857[\"COMUNE\"] == \"Milano\"].geometry.item()"
      ],
      "metadata": {
        "id": "M6X39hLAKmxr"
      },
      "execution_count": null,
      "outputs": []
    },
    {
      "cell_type": "code",
      "source": [
        "parchi_milano = parchi3857[parchi3857.intersects(milano)].geometry.unary_union"
      ],
      "metadata": {
        "id": "ah3KF_qzE4CD"
      },
      "execution_count": null,
      "outputs": []
    },
    {
      "cell_type": "code",
      "source": [
        "comuni_parchi_milano = comuni3857[comuni3857.intersects(parchi_milano)]"
      ],
      "metadata": {
        "id": "HyylmVODV6Iu"
      },
      "execution_count": null,
      "outputs": []
    },
    {
      "cell_type": "code",
      "source": [
        "parchi_milano2 = geopandas.GeoSeries([parchi_milano])#per plottare un oggetto dopo aver usato (.geometry.unary_union)"
      ],
      "metadata": {
        "id": "r0lcTfMCV-TO"
      },
      "execution_count": null,
      "outputs": []
    },
    {
      "cell_type": "code",
      "source": [
        "ax = parchi_milano2.plot(figsize = (15, 12), edgecolor = \"none\", facecolor = \"green\")\n",
        "comuni_parchi_milano.plot(ax = ax, edgecolor= \"k\", facecolor = \"none\")\n",
        "contextily.add_basemap(ax)"
      ],
      "metadata": {
        "id": "jP3StiDJVOWe"
      },
      "execution_count": null,
      "outputs": []
    },
    {
      "cell_type": "markdown",
      "source": [
        "2. analogo al primo esercizio ma tracciando sulla mappa solo i quartieri di Milano attraversati da parchi (e non tutta la città)"
      ],
      "metadata": {
        "id": "zR9ghTHCE9KD"
      }
    },
    {
      "cell_type": "code",
      "source": [
        "quartieri_parchi_milano = quartieri3857[quartieri3857.intersects(parchi_milano)]"
      ],
      "metadata": {
        "id": "19I2rLCaE9di"
      },
      "execution_count": null,
      "outputs": []
    },
    {
      "cell_type": "code",
      "source": [
        "ax = parchi_milano2.plot(figsize = (15, 12), edgecolor = \"none\", facecolor = \"green\")\n",
        "quartieri_parchi_milano.plot(ax = ax, edgecolor= \"k\", facecolor = \"none\")\n",
        "contextily.add_basemap(ax)"
      ],
      "metadata": {
        "id": "jRBXdq_DWnCn"
      },
      "execution_count": null,
      "outputs": []
    },
    {
      "cell_type": "markdown",
      "source": [
        "3  dato il nome di un parco, avere la mappa del parco con i comuni che lo ospitano"
      ],
      "metadata": {
        "id": "hCfMuwq9E97M"
      }
    },
    {
      "cell_type": "code",
      "source": [],
      "metadata": {
        "id": "2gu9px_wE-Lz"
      },
      "execution_count": null,
      "outputs": []
    },
    {
      "cell_type": "markdown",
      "source": [
        "4. dato il nome di un parco, avere la mappa del parco con le province che attraversa"
      ],
      "metadata": {
        "id": "k1-PDNq9E-bi"
      }
    },
    {
      "cell_type": "code",
      "source": [],
      "metadata": {
        "id": "_8Vy2Na4E-qT"
      },
      "execution_count": null,
      "outputs": []
    },
    {
      "cell_type": "markdown",
      "source": [
        "5. dato un comune, avere i parchi che ospita (elenco e mappa)"
      ],
      "metadata": {
        "id": "rBXVLKraE-5L"
      }
    },
    {
      "cell_type": "code",
      "source": [],
      "metadata": {
        "id": "khwhSqWbE_Kq"
      },
      "execution_count": null,
      "outputs": []
    },
    {
      "cell_type": "markdown",
      "source": [
        "6. dato il nome di una provincia, avere i parchi che ospita (elenco e mappa)"
      ],
      "metadata": {
        "id": "WUxQ9XMoFQ1T"
      }
    },
    {
      "cell_type": "code",
      "source": [],
      "metadata": {
        "id": "gnyreFheFRNC"
      },
      "execution_count": null,
      "outputs": []
    }
  ]
}